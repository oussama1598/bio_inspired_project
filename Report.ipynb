{
 "cells": [
  {
   "cell_type": "markdown",
   "metadata": {},
   "source": [
    "# Test Structure"
   ]
  },
  {
   "cell_type": "markdown",
   "metadata": {},
   "source": [
    "## Load the test structure (example 1)"
   ]
  },
  {
   "cell_type": "markdown",
   "metadata": {},
   "source": [
    "### Load custom modules"
   ]
  },
  {
   "cell_type": "code",
   "execution_count": 1,
   "metadata": {
    "pycharm": {
     "name": "#%%\n"
    }
   },
   "outputs": [],
   "source": [
    "import os\n",
    "import sys\n",
    "sys.path.insert(0, os.path.abspath('../'))\n",
    "\n",
    "from src.modules.strcture import Structure"
   ]
  },
  {
   "cell_type": "markdown",
   "metadata": {},
   "source": [
    "### Load external modules"
   ]
  },
  {
   "cell_type": "code",
   "execution_count": 2,
   "metadata": {
    "pycharm": {
     "name": "#%%\n"
    }
   },
   "outputs": [],
   "source": [
    "import matplotlib.pyplot as plt\n",
    "import pandas as pd "
   ]
  },
  {
   "cell_type": "markdown",
   "metadata": {},
   "source": [
    "### Csv file for the structure"
   ]
  },
  {
   "cell_type": "code",
   "execution_count": 3,
   "metadata": {
    "pycharm": {
     "name": "#%%\n"
    }
   },
   "outputs": [
    {
     "data": {
      "text/html": [
       "<div>\n",
       "<style scoped>\n",
       "    .dataframe tbody tr th:only-of-type {\n",
       "        vertical-align: middle;\n",
       "    }\n",
       "\n",
       "    .dataframe tbody tr th {\n",
       "        vertical-align: top;\n",
       "    }\n",
       "\n",
       "    .dataframe thead th {\n",
       "        text-align: right;\n",
       "    }\n",
       "</style>\n",
       "<table border=\"1\" class=\"dataframe\">\n",
       "  <thead>\n",
       "    <tr style=\"text-align: right;\">\n",
       "      <th></th>\n",
       "      <th>x</th>\n",
       "      <th>y</th>\n",
       "      <th>n1</th>\n",
       "      <th>n2</th>\n",
       "      <th>n3</th>\n",
       "      <th>ddl</th>\n",
       "      <th>Px</th>\n",
       "      <th>Py</th>\n",
       "    </tr>\n",
       "  </thead>\n",
       "  <tbody>\n",
       "    <tr>\n",
       "      <th>0</th>\n",
       "      <td>0</td>\n",
       "      <td>200</td>\n",
       "      <td>0</td>\n",
       "      <td>1</td>\n",
       "      <td>1</td>\n",
       "      <td>0</td>\n",
       "      <td>0</td>\n",
       "      <td>0</td>\n",
       "    </tr>\n",
       "    <tr>\n",
       "      <th>1</th>\n",
       "      <td>200</td>\n",
       "      <td>0</td>\n",
       "      <td>1</td>\n",
       "      <td>0</td>\n",
       "      <td>1</td>\n",
       "      <td>3</td>\n",
       "      <td>0</td>\n",
       "      <td>-10000</td>\n",
       "    </tr>\n",
       "    <tr>\n",
       "      <th>2</th>\n",
       "      <td>0</td>\n",
       "      <td>-200</td>\n",
       "      <td>1</td>\n",
       "      <td>1</td>\n",
       "      <td>0</td>\n",
       "      <td>2</td>\n",
       "      <td>0</td>\n",
       "      <td>0</td>\n",
       "    </tr>\n",
       "  </tbody>\n",
       "</table>\n",
       "</div>"
      ],
      "text/plain": [
       "     x    y  n1  n2  n3  ddl  Px     Py\n",
       "0    0  200   0   1   1    0   0      0\n",
       "1  200    0   1   0   1    3   0 -10000\n",
       "2    0 -200   1   1   0    2   0      0"
      ]
     },
     "execution_count": 3,
     "metadata": {},
     "output_type": "execute_result"
    }
   ],
   "source": [
    "pd.read_csv('./structures/example_1.csv') "
   ]
  },
  {
   "cell_type": "markdown",
   "metadata": {},
   "source": [
    "### Build structure from csv file"
   ]
  },
  {
   "cell_type": "code",
   "execution_count": 4,
   "metadata": {
    "pycharm": {
     "name": "#%%\n"
    }
   },
   "outputs": [],
   "source": [
    "structure = Structure.from_csv('./structures/example_1.csv')"
   ]
  },
  {
   "cell_type": "markdown",
   "metadata": {},
   "source": [
    "### Nodes under this structure"
   ]
  },
  {
   "cell_type": "code",
   "execution_count": 5,
   "metadata": {
    "pycharm": {
     "name": "#%%\n"
    }
   },
   "outputs": [
    {
     "data": {
      "text/plain": [
       "{(0.0, 200.0): <src.modules.node.Node at 0x7f7a4ec4bb20>,\n",
       " (200.0, 0.0): <src.modules.node.Node at 0x7f7a4ec4bb50>,\n",
       " (0.0, -200.0): <src.modules.node.Node at 0x7f7a4ec4bc40>}"
      ]
     },
     "execution_count": 5,
     "metadata": {},
     "output_type": "execute_result"
    }
   ],
   "source": [
    "structure.nodes"
   ]
  },
  {
   "cell_type": "code",
   "execution_count": 6,
   "metadata": {
    "pycharm": {
     "name": "#%%\n"
    }
   },
   "outputs": [
    {
     "data": {
      "image/png": "[encoded data removed]",
      "text/plain": [
       "<Figure size 432x288 with 1 Axes>"
      ]
     },
     "metadata": {
      "needs_background": "light"
     },
     "output_type": "display_data"
    }
   ],
   "source": [
    "for node in structure.nodes.values():\n",
    "    plt.scatter([node.x], [node.y], color='r',\n",
    "                       zorder=2,\n",
    "                       s=120)"
   ]
  },
  {
   "cell_type": "markdown",
   "metadata": {},
   "source": [
    "### Bars under this structure"
   ]
  },
  {
   "cell_type": "code",
   "execution_count": 7,
   "metadata": {
    "pycharm": {
     "name": "#%%\n"
    }
   },
   "outputs": [
    {
     "data": {
      "text/plain": [
       "{frozenset({0, 1}): <src.modules.bar.Bar at 0x7f7a4ec4bbb0>,\n",
       " frozenset({0, 2}): <src.modules.bar.Bar at 0x7f7a4ec4bb80>,\n",
       " frozenset({1, 2}): <src.modules.bar.Bar at 0x7f7a4ec4bc70>}"
      ]
     },
     "execution_count": 7,
     "metadata": {},
     "output_type": "execute_result"
    }
   ],
   "source": [
    "structure.bars"
   ]
  },
  {
   "cell_type": "code",
   "execution_count": 8,
   "metadata": {
    "pycharm": {
     "name": "#%%\n"
    }
   },
   "outputs": [
    {
     "data": {
      "image/png": "[encoded data removed]",
      "text/plain": [
       "<Figure size 432x288 with 1 Axes>"
      ]
     },
     "metadata": {
      "needs_background": "light"
     },
     "output_type": "display_data"
    }
   ],
   "source": [
    " for bar in structure.bars.values():\n",
    "    plt.plot([bar.from_x, bar.to_x], [bar.from_y, bar.to_y], color='b', zorder=1)"
   ]
  },
  {
   "cell_type": "markdown",
   "metadata": {},
   "source": [
    "### Visialuzation of the whole structure"
   ]
  },
  {
   "cell_type": "code",
   "execution_count": 9,
   "metadata": {
    "pycharm": {
     "name": "#%%\n"
    }
   },
   "outputs": [
    {
     "data": {
      "image/png": "[encoded data removed]",
      "text/plain": [
       "<Figure size 432x288 with 1 Axes>"
      ]
     },
     "metadata": {
      "needs_background": "light"
     },
     "output_type": "display_data"
    }
   ],
   "source": [
    "structure.draw(show=False)"
   ]
  },
  {
   "cell_type": "markdown",
   "metadata": {},
   "source": [
    "### Calculate the stifness matrix for the bar(1-3)"
   ]
  },
  {
   "cell_type": "code",
   "execution_count": 10,
   "metadata": {
    "pycharm": {
     "name": "#%%\n"
    }
   },
   "outputs": [],
   "source": [
    "E = 200000\n",
    "A = 100"
   ]
  },
  {
   "cell_type": "code",
   "execution_count": 11,
   "metadata": {
    "pycharm": {
     "name": "#%%\n"
    }
   },
   "outputs": [
    {
     "data": {
      "text/plain": [
       "array([[     0.,     -0.,      0.,      0.,     -0.,      0.],\n",
       "       [    -0.,  50000.,      0.,      0.,      0., -50000.],\n",
       "       [     0.,      0.,      0.,      0.,      0.,      0.],\n",
       "       [     0.,      0.,      0.,      0.,      0.,      0.],\n",
       "       [    -0.,      0.,      0.,      0.,      0.,     -0.],\n",
       "       [     0., -50000.,      0.,      0.,     -0.,  50000.]])"
      ]
     },
     "execution_count": 11,
     "metadata": {},
     "output_type": "execute_result"
    }
   ],
   "source": [
    "structure.bars[frozenset((0, 2))].calculate_k(A, E)"
   ]
  },
  {
   "cell_type": "markdown",
   "metadata": {},
   "source": [
    "### Calculate the stifness matrix for the whole structure"
   ]
  },
  {
   "cell_type": "code",
   "execution_count": 12,
   "metadata": {
    "pycharm": {
     "name": "#%%\n"
    }
   },
   "outputs": [
    {
     "name": "stdout",
     "output_type": "stream",
     "text": [
      "[[ 70710.67811865      0.         -35355.33905933]\n",
      " [     0.          70710.67811865 -35355.33905933]\n",
      " [-35355.33905933 -35355.33905933  85355.33905933]]\n"
     ]
    }
   ],
   "source": [
    "k, _, _ = structure.calculate_ll_k_with_forces(A, E)\n",
    "\n",
    "print(k)"
   ]
  },
  {
   "cell_type": "markdown",
   "metadata": {},
   "source": [
    "### Unknown displacements for this structure"
   ]
  },
  {
   "cell_type": "code",
   "execution_count": 13,
   "metadata": {
    "pycharm": {
     "name": "#%%\n"
    }
   },
   "outputs": [
    {
     "name": "stdout",
     "output_type": "stream",
     "text": [
      "u2\n",
      "v2\n",
      "v3\n"
     ]
    }
   ],
   "source": [
    "_, _, unknown_displacements = structure.calculate_ll_k_with_forces(A, E)\n",
    "\n",
    "for i in unknown_displacements:\n",
    "    if i % 2 == 0:\n",
    "        print(f'u{(i // 2) + 1}')\n",
    "    else:\n",
    "        print(f'v{(i // 2) + 1}')"
   ]
  },
  {
   "cell_type": "markdown",
   "metadata": {},
   "source": [
    "### Calculate the displacenemts"
   ]
  },
  {
   "cell_type": "code",
   "execution_count": 14,
   "metadata": {
    "pycharm": {
     "name": "#%%\n"
    }
   },
   "outputs": [
    {
     "name": "stdout",
     "output_type": "stream",
     "text": [
      "u1 = 0.0 mm\n",
      "v1 = 0.0 mm\n",
      "u2 = -0.05 mm\n",
      "v2 = -0.1914213562373095 mm\n",
      "u3 = 0.0 mm\n",
      "v3 = -0.1 mm\n"
     ]
    }
   ],
   "source": [
    "displacements = structure.calculate_displacements(A, E)\n",
    "\n",
    "for i, displacement in enumerate(displacements):\n",
    "    if i % 2 == 0:\n",
    "        print(f'u{(i // 2) + 1}', '=', displacement, 'mm')\n",
    "    else:\n",
    "        print(f'v{(i // 2) + 1}', '=', displacement, 'mm')"
   ]
  },
  {
   "cell_type": "markdown",
   "metadata": {
    "pycharm": {
     "name": "#%%\n"
    }
   },
   "source": [
    "### Calculate deformation Energy"
   ]
  },
  {
   "cell_type": "code",
   "execution_count": 15,
   "metadata": {
    "pycharm": {
     "name": "#%%\n"
    }
   },
   "outputs": [
    {
     "data": {
      "text/plain": [
       "'957.1067811865474mJ'"
      ]
     },
     "execution_count": 15,
     "metadata": {},
     "output_type": "execute_result"
    }
   ],
   "source": [
    "str(structure.calculate_deformation_energy(A, E)) + 'mJ'"
   ]
  },
  {
   "cell_type": "markdown",
   "metadata": {},
   "source": [
    "## Load the test structure (example 2)"
   ]
  },
  {
   "cell_type": "markdown",
   "metadata": {},
   "source": [
    "### Load custom modules"
   ]
  },
  {
   "cell_type": "markdown",
   "metadata": {},
   "source": [
    "### Csv file for the structure"
   ]
  },
  {
   "cell_type": "code",
   "execution_count": 16,
   "metadata": {
    "pycharm": {
     "name": "#%%\n"
    }
   },
   "outputs": [
    {
     "data": {
      "text/html": [
       "<div>\n",
       "<style scoped>\n",
       "    .dataframe tbody tr th:only-of-type {\n",
       "        vertical-align: middle;\n",
       "    }\n",
       "\n",
       "    .dataframe tbody tr th {\n",
       "        vertical-align: top;\n",
       "    }\n",
       "\n",
       "    .dataframe thead th {\n",
       "        text-align: right;\n",
       "    }\n",
       "</style>\n",
       "<table border=\"1\" class=\"dataframe\">\n",
       "  <thead>\n",
       "    <tr style=\"text-align: right;\">\n",
       "      <th></th>\n",
       "      <th>x</th>\n",
       "      <th>y</th>\n",
       "      <th>n1</th>\n",
       "      <th>n2</th>\n",
       "      <th>n3</th>\n",
       "      <th>ddl</th>\n",
       "      <th>Px</th>\n",
       "      <th>Py</th>\n",
       "    </tr>\n",
       "  </thead>\n",
       "  <tbody>\n",
       "    <tr>\n",
       "      <th>0</th>\n",
       "      <td>0</td>\n",
       "      <td>0</td>\n",
       "      <td>0</td>\n",
       "      <td>1</td>\n",
       "      <td>1</td>\n",
       "      <td>0</td>\n",
       "      <td>0</td>\n",
       "      <td>0</td>\n",
       "    </tr>\n",
       "    <tr>\n",
       "      <th>1</th>\n",
       "      <td>0</td>\n",
       "      <td>700</td>\n",
       "      <td>1</td>\n",
       "      <td>0</td>\n",
       "      <td>1</td>\n",
       "      <td>2</td>\n",
       "      <td>0</td>\n",
       "      <td>0</td>\n",
       "    </tr>\n",
       "    <tr>\n",
       "      <th>2</th>\n",
       "      <td>700</td>\n",
       "      <td>0</td>\n",
       "      <td>1</td>\n",
       "      <td>1</td>\n",
       "      <td>0</td>\n",
       "      <td>3</td>\n",
       "      <td>-120000</td>\n",
       "      <td>-360000</td>\n",
       "    </tr>\n",
       "  </tbody>\n",
       "</table>\n",
       "</div>"
      ],
      "text/plain": [
       "     x      y      n1   n2   n3    ddl      Px      Py\n",
       "0    0      0       0    1    1      0       0       0\n",
       "1    0    700       1    0    1      2       0       0\n",
       "2  700      0       1    1    0      3 -120000 -360000"
      ]
     },
     "execution_count": 16,
     "metadata": {},
     "output_type": "execute_result"
    }
   ],
   "source": [
    "pd.read_csv('./structures/example_2.csv')"
   ]
  },
  {
   "cell_type": "markdown",
   "metadata": {},
   "source": [
    "### Build structure from csv file"
   ]
  },
  {
   "cell_type": "code",
   "execution_count": 17,
   "metadata": {
    "pycharm": {
     "name": "#%%\n"
    }
   },
   "outputs": [],
   "source": [
    "structure = Structure.from_csv('./structures/example_2.csv')"
   ]
  },
  {
   "cell_type": "markdown",
   "metadata": {},
   "source": [
    "### Nodes under this structure"
   ]
  },
  {
   "cell_type": "code",
   "execution_count": 18,
   "metadata": {
    "pycharm": {
     "name": "#%%\n"
    }
   },
   "outputs": [
    {
     "data": {
      "text/plain": [
       "{(0.0, 0.0): <src.modules.node.Node at 0x7f7a4a83c400>,\n",
       " (0.0, 700.0): <src.modules.node.Node at 0x7f7a4a83c850>,\n",
       " (700.0, 0.0): <src.modules.node.Node at 0x7f7a4a83c880>}"
      ]
     },
     "execution_count": 18,
     "metadata": {},
     "output_type": "execute_result"
    }
   ],
   "source": [
    "structure.nodes"
   ]
  },
  {
   "cell_type": "code",
   "execution_count": 19,
   "metadata": {
    "pycharm": {
     "name": "#%%\n"
    }
   },
   "outputs": [
    {
     "data": {
      "image/png": "[encoded data removed]",
      "text/plain": [
       "<Figure size 432x288 with 1 Axes>"
      ]
     },
     "metadata": {
      "needs_background": "light"
     },
     "output_type": "display_data"
    }
   ],
   "source": [
    "for node in structure.nodes.values():\n",
    "    plt.scatter([node.x], [node.y], color='r',\n",
    "                       zorder=2,\n",
    "                       s=120)"
   ]
  },
  {
   "cell_type": "markdown",
   "metadata": {},
   "source": [
    "### Bars under this structure"
   ]
  },
  {
   "cell_type": "code",
   "execution_count": 20,
   "metadata": {
    "pycharm": {
     "name": "#%%\n"
    }
   },
   "outputs": [
    {
     "data": {
      "text/plain": [
       "{frozenset({0, 1}): <src.modules.bar.Bar at 0x7f7a4a83ca90>,\n",
       " frozenset({0, 2}): <src.modules.bar.Bar at 0x7f7a4a83cbb0>,\n",
       " frozenset({1, 2}): <src.modules.bar.Bar at 0x7f7a4a83cd00>}"
      ]
     },
     "execution_count": 20,
     "metadata": {},
     "output_type": "execute_result"
    }
   ],
   "source": [
    "structure.bars"
   ]
  },
  {
   "cell_type": "code",
   "execution_count": 21,
   "metadata": {
    "pycharm": {
     "name": "#%%\n"
    }
   },
   "outputs": [
    {
     "data": {
      "image/png": "[encoded data removed]",
      "text/plain": [
       "<Figure size 432x288 with 1 Axes>"
      ]
     },
     "metadata": {
      "needs_background": "light"
     },
     "output_type": "display_data"
    }
   ],
   "source": [
    " for bar in structure.bars.values():\n",
    "    plt.plot([bar.from_x, bar.to_x], [bar.from_y, bar.to_y], color='b', zorder=1)"
   ]
  },
  {
   "cell_type": "markdown",
   "metadata": {},
   "source": [
    "### Visialuzation of the whole structure"
   ]
  },
  {
   "cell_type": "code",
   "execution_count": 22,
   "metadata": {
    "pycharm": {
     "name": "#%%\n"
    }
   },
   "outputs": [
    {
     "data": {
      "image/png": "[encoded data removed]",
      "text/plain": [
       "<Figure size 432x288 with 1 Axes>"
      ]
     },
     "metadata": {
      "needs_background": "light"
     },
     "output_type": "display_data"
    }
   ],
   "source": [
    "structure.draw(show=False)"
   ]
  },
  {
   "cell_type": "markdown",
   "metadata": {},
   "source": [
    "### Calculate the stifness matrix for the bar(1-3)"
   ]
  },
  {
   "cell_type": "code",
   "execution_count": 23,
   "metadata": {
    "pycharm": {
     "name": "#%%\n"
    }
   },
   "outputs": [],
   "source": [
    "E = 200000\n",
    "A = 10000"
   ]
  },
  {
   "cell_type": "code",
   "execution_count": 24,
   "metadata": {
    "pycharm": {
     "name": "#%%\n"
    }
   },
   "outputs": [
    {
     "data": {
      "text/plain": [
       "array([[ 2857142.85714286,        0.        ,        0.        ,\n",
       "               0.        , -2857142.85714286,       -0.        ],\n",
       "       [       0.        ,        0.        ,        0.        ,\n",
       "               0.        ,       -0.        ,       -0.        ],\n",
       "       [       0.        ,        0.        ,        0.        ,\n",
       "               0.        ,        0.        ,        0.        ],\n",
       "       [       0.        ,        0.        ,        0.        ,\n",
       "               0.        ,        0.        ,        0.        ],\n",
       "       [-2857142.85714286,       -0.        ,        0.        ,\n",
       "               0.        ,  2857142.85714286,        0.        ],\n",
       "       [      -0.        ,       -0.        ,        0.        ,\n",
       "               0.        ,        0.        ,        0.        ]])"
      ]
     },
     "execution_count": 24,
     "metadata": {},
     "output_type": "execute_result"
    }
   ],
   "source": [
    "structure.bars[frozenset((0, 2))].calculate_k(A, E)"
   ]
  },
  {
   "cell_type": "markdown",
   "metadata": {},
   "source": [
    "### Calculate the stifness matrix for the whole structure"
   ]
  },
  {
   "cell_type": "code",
   "execution_count": 25,
   "metadata": {
    "pycharm": {
     "name": "#%%\n"
    }
   },
   "outputs": [
    {
     "name": "stdout",
     "output_type": "stream",
     "text": [
      "[[ 3867295.40169507  1010152.54455221 -1010152.54455221]\n",
      " [ 1010152.54455221  3867295.40169507 -1010152.54455221]\n",
      " [-1010152.54455221 -1010152.54455221  1010152.54455221]]\n"
     ]
    }
   ],
   "source": [
    "k, _, _ = structure.calculate_ll_k_with_forces(A, E)\n",
    "\n",
    "print(k)"
   ]
  },
  {
   "cell_type": "markdown",
   "metadata": {},
   "source": [
    "### Unknown displacements for this structure"
   ]
  },
  {
   "cell_type": "code",
   "execution_count": 26,
   "metadata": {
    "pycharm": {
     "name": "#%%\n"
    }
   },
   "outputs": [
    {
     "name": "stdout",
     "output_type": "stream",
     "text": [
      "v2\n",
      "u3\n",
      "v3\n"
     ]
    }
   ],
   "source": [
    "_, _, unknown_displacements = structure.calculate_ll_k_with_forces(A, E)\n",
    "\n",
    "for i in unknown_displacements:\n",
    "    if i % 2 == 0:\n",
    "        print(f'u{(i // 2) + 1}')\n",
    "    else:\n",
    "        print(f'v{(i // 2) + 1}')"
   ]
  },
  {
   "cell_type": "markdown",
   "metadata": {},
   "source": [
    "### Calculate the displacenemts"
   ]
  },
  {
   "cell_type": "code",
   "execution_count": 27,
   "metadata": {
    "pycharm": {
     "name": "#%%\n"
    }
   },
   "outputs": [
    {
     "name": "stdout",
     "output_type": "stream",
     "text": [
      "u1 = 0.0 mm\n",
      "v1 = 0.0 mm\n",
      "u2 = 0.0 mm\n",
      "v2 = -0.12599999999999997 mm\n",
      "u3 = -0.16800000000000004 mm\n",
      "v3 = -0.6503818177180201 mm\n"
     ]
    }
   ],
   "source": [
    "displacements = structure.calculate_displacements(A, E)\n",
    "\n",
    "for i, displacement in enumerate(displacements):\n",
    "    if i % 2 == 0:\n",
    "        print(f'u{(i // 2) + 1}', '=', displacement, 'mm')\n",
    "    else:\n",
    "        print(f'v{(i // 2) + 1}', '=', displacement, 'mm')"
   ]
  },
  {
   "cell_type": "markdown",
   "metadata": {
    "pycharm": {
     "name": "#%%\n"
    }
   },
   "source": [
    "### Calculate deformation Energy"
   ]
  },
  {
   "cell_type": "code",
   "execution_count": 28,
   "metadata": {
    "pycharm": {
     "name": "#%%\n"
    }
   },
   "outputs": [
    {
     "data": {
      "text/plain": [
       "'127148.72718924363mJ'"
      ]
     },
     "execution_count": 28,
     "metadata": {},
     "output_type": "execute_result"
    }
   ],
   "source": [
    "str(structure.calculate_deformation_energy(A, E)) + 'mJ'"
   ]
  },
  {
   "cell_type": "markdown",
   "metadata": {},
   "source": [
    "## Load a random structure"
   ]
  },
  {
   "cell_type": "markdown",
   "metadata": {},
   "source": [
    "### Load custom modules"
   ]
  },
  {
   "cell_type": "markdown",
   "metadata": {},
   "source": [
    "### Csv file for the structure"
   ]
  },
  {
   "cell_type": "code",
   "execution_count": 29,
   "metadata": {
    "pycharm": {
     "name": "#%%\n"
    }
   },
   "outputs": [
    {
     "data": {
      "text/html": [
       "<div>\n",
       "<style scoped>\n",
       "    .dataframe tbody tr th:only-of-type {\n",
       "        vertical-align: middle;\n",
       "    }\n",
       "\n",
       "    .dataframe tbody tr th {\n",
       "        vertical-align: top;\n",
       "    }\n",
       "\n",
       "    .dataframe thead th {\n",
       "        text-align: right;\n",
       "    }\n",
       "</style>\n",
       "<table border=\"1\" class=\"dataframe\">\n",
       "  <thead>\n",
       "    <tr style=\"text-align: right;\">\n",
       "      <th></th>\n",
       "      <th>x</th>\n",
       "      <th>y</th>\n",
       "      <th>n1</th>\n",
       "      <th>n2</th>\n",
       "      <th>n3</th>\n",
       "      <th>n4</th>\n",
       "      <th>n5</th>\n",
       "      <th>n6</th>\n",
       "      <th>ddl</th>\n",
       "      <th>Px</th>\n",
       "      <th>Py</th>\n",
       "    </tr>\n",
       "  </thead>\n",
       "  <tbody>\n",
       "    <tr>\n",
       "      <th>0</th>\n",
       "      <td>0.0</td>\n",
       "      <td>0.0</td>\n",
       "      <td>0</td>\n",
       "      <td>1</td>\n",
       "      <td>0</td>\n",
       "      <td>1</td>\n",
       "      <td>1</td>\n",
       "      <td>1</td>\n",
       "      <td>3</td>\n",
       "      <td>0</td>\n",
       "      <td>0</td>\n",
       "    </tr>\n",
       "    <tr>\n",
       "      <th>1</th>\n",
       "      <td>0.5</td>\n",
       "      <td>0.0</td>\n",
       "      <td>1</td>\n",
       "      <td>0</td>\n",
       "      <td>1</td>\n",
       "      <td>1</td>\n",
       "      <td>1</td>\n",
       "      <td>1</td>\n",
       "      <td>0</td>\n",
       "      <td>0</td>\n",
       "      <td>-2000</td>\n",
       "    </tr>\n",
       "    <tr>\n",
       "      <th>2</th>\n",
       "      <td>1.0</td>\n",
       "      <td>0.0</td>\n",
       "      <td>0</td>\n",
       "      <td>1</td>\n",
       "      <td>0</td>\n",
       "      <td>1</td>\n",
       "      <td>1</td>\n",
       "      <td>1</td>\n",
       "      <td>3</td>\n",
       "      <td>0</td>\n",
       "      <td>0</td>\n",
       "    </tr>\n",
       "    <tr>\n",
       "      <th>3</th>\n",
       "      <td>1.0</td>\n",
       "      <td>0.5</td>\n",
       "      <td>1</td>\n",
       "      <td>1</td>\n",
       "      <td>1</td>\n",
       "      <td>0</td>\n",
       "      <td>1</td>\n",
       "      <td>0</td>\n",
       "      <td>0</td>\n",
       "      <td>0</td>\n",
       "      <td>0</td>\n",
       "    </tr>\n",
       "    <tr>\n",
       "      <th>4</th>\n",
       "      <td>0.5</td>\n",
       "      <td>0.5</td>\n",
       "      <td>1</td>\n",
       "      <td>1</td>\n",
       "      <td>1</td>\n",
       "      <td>1</td>\n",
       "      <td>0</td>\n",
       "      <td>1</td>\n",
       "      <td>0</td>\n",
       "      <td>0</td>\n",
       "      <td>0</td>\n",
       "    </tr>\n",
       "    <tr>\n",
       "      <th>5</th>\n",
       "      <td>0.0</td>\n",
       "      <td>0.5</td>\n",
       "      <td>1</td>\n",
       "      <td>1</td>\n",
       "      <td>1</td>\n",
       "      <td>0</td>\n",
       "      <td>1</td>\n",
       "      <td>0</td>\n",
       "      <td>0</td>\n",
       "      <td>0</td>\n",
       "      <td>0</td>\n",
       "    </tr>\n",
       "  </tbody>\n",
       "</table>\n",
       "</div>"
      ],
      "text/plain": [
       "     x    y  n1  n2  n3  n4  n5  n6  ddl  Px    Py\n",
       "0  0.0  0.0   0   1   0   1   1   1    3   0     0\n",
       "1  0.5  0.0   1   0   1   1   1   1    0   0 -2000\n",
       "2  1.0  0.0   0   1   0   1   1   1    3   0     0\n",
       "3  1.0  0.5   1   1   1   0   1   0    0   0     0\n",
       "4  0.5  0.5   1   1   1   1   0   1    0   0     0\n",
       "5  0.0  0.5   1   1   1   0   1   0    0   0     0"
      ]
     },
     "execution_count": 29,
     "metadata": {},
     "output_type": "execute_result"
    }
   ],
   "source": [
    "pd.read_csv('./structures/data.csv')"
   ]
  },
  {
   "cell_type": "markdown",
   "metadata": {},
   "source": [
    "### Build structure from csv file"
   ]
  },
  {
   "cell_type": "code",
   "execution_count": 30,
   "metadata": {
    "pycharm": {
     "name": "#%%\n"
    }
   },
   "outputs": [],
   "source": [
    "structure = Structure.from_csv('./structures/data.csv')"
   ]
  },
  {
   "cell_type": "markdown",
   "metadata": {},
   "source": [
    "### Nodes under this structure"
   ]
  },
  {
   "cell_type": "code",
   "execution_count": 31,
   "metadata": {
    "pycharm": {
     "name": "#%%\n"
    }
   },
   "outputs": [
    {
     "data": {
      "text/plain": [
       "{(0.0, 0.0): <src.modules.node.Node at 0x7f7a4a6f89d0>,\n",
       " (0.5, 0.0): <src.modules.node.Node at 0x7f7a4a6f8c10>,\n",
       " (1.0, 0.0): <src.modules.node.Node at 0x7f7a4a6f84f0>,\n",
       " (1.0, 0.5): <src.modules.node.Node at 0x7f7a4a6f86a0>,\n",
       " (0.5, 0.5): <src.modules.node.Node at 0x7f7a4a835940>,\n",
       " (0.0, 0.5): <src.modules.node.Node at 0x7f7a4a835c10>}"
      ]
     },
     "execution_count": 31,
     "metadata": {},
     "output_type": "execute_result"
    }
   ],
   "source": [
    "structure.nodes"
   ]
  },
  {
   "cell_type": "code",
   "execution_count": 32,
   "metadata": {
    "pycharm": {
     "name": "#%%\n"
    }
   },
   "outputs": [
    {
     "data": {
      "image/png": "[encoded data removed]",
      "text/plain": [
       "<Figure size 432x288 with 1 Axes>"
      ]
     },
     "metadata": {
      "needs_background": "light"
     },
     "output_type": "display_data"
    }
   ],
   "source": [
    "for node in structure.nodes.values():\n",
    "    plt.scatter([node.x], [node.y], color='r',\n",
    "                       zorder=2,\n",
    "                       s=120)"
   ]
  },
  {
   "cell_type": "markdown",
   "metadata": {},
   "source": [
    "### Bars under this structure"
   ]
  },
  {
   "cell_type": "code",
   "execution_count": 33,
   "metadata": {
    "pycharm": {
     "name": "#%%\n"
    }
   },
   "outputs": [
    {
     "data": {
      "text/plain": [
       "{frozenset({0, 1}): <src.modules.bar.Bar at 0x7f7a4a6f8ee0>,\n",
       " frozenset({0, 3}): <src.modules.bar.Bar at 0x7f7a4a6f83d0>,\n",
       " frozenset({0, 4}): <src.modules.bar.Bar at 0x7f7a4a6f8a00>,\n",
       " frozenset({0, 5}): <src.modules.bar.Bar at 0x7f7a4a6f8400>,\n",
       " frozenset({1, 2}): <src.modules.bar.Bar at 0x7f7a4a6f8a30>,\n",
       " frozenset({1, 3}): <src.modules.bar.Bar at 0x7f7a4a6f8550>,\n",
       " frozenset({1, 4}): <src.modules.bar.Bar at 0x7f7a4a6f88b0>,\n",
       " frozenset({1, 5}): <src.modules.bar.Bar at 0x7f7a4a6f8430>,\n",
       " frozenset({2, 3}): <src.modules.bar.Bar at 0x7f7a4c99c3a0>,\n",
       " frozenset({2, 4}): <src.modules.bar.Bar at 0x7f7a4c99cb50>,\n",
       " frozenset({2, 5}): <src.modules.bar.Bar at 0x7f7a4a835fd0>,\n",
       " frozenset({3, 4}): <src.modules.bar.Bar at 0x7f7a4a835910>,\n",
       " frozenset({4, 5}): <src.modules.bar.Bar at 0x7f7a4ea07310>}"
      ]
     },
     "execution_count": 33,
     "metadata": {},
     "output_type": "execute_result"
    }
   ],
   "source": [
    "structure.bars"
   ]
  },
  {
   "cell_type": "code",
   "execution_count": 34,
   "metadata": {
    "pycharm": {
     "name": "#%%\n"
    }
   },
   "outputs": [
    {
     "data": {
      "image/png": "[encoded data removed]",
      "text/plain": [
       "<Figure size 432x288 with 1 Axes>"
      ]
     },
     "metadata": {
      "needs_background": "light"
     },
     "output_type": "display_data"
    }
   ],
   "source": [
    " for bar in structure.bars.values():\n",
    "    plt.plot([bar.from_x, bar.to_x], [bar.from_y, bar.to_y], color='b', zorder=1)"
   ]
  },
  {
   "cell_type": "markdown",
   "metadata": {},
   "source": [
    "### Visialuzation of the whole structure"
   ]
  },
  {
   "cell_type": "code",
   "execution_count": 35,
   "metadata": {
    "pycharm": {
     "name": "#%%\n"
    }
   },
   "outputs": [
    {
     "data": {
      "image/png": "[encoded data removed]",
      "text/plain": [
       "<Figure size 432x288 with 1 Axes>"
      ]
     },
     "metadata": {
      "needs_background": "light"
     },
     "output_type": "display_data"
    }
   ],
   "source": [
    "structure.draw(show=False)"
   ]
  },
  {
   "cell_type": "markdown",
   "metadata": {},
   "source": [
    "### Calculate the stifness matrix for the bar(1-2)"
   ]
  },
  {
   "cell_type": "code",
   "execution_count": 36,
   "metadata": {
    "pycharm": {
     "name": "#%%\n"
    }
   },
   "outputs": [],
   "source": [
    "E = 200000\n",
    "A = 300"
   ]
  },
  {
   "cell_type": "code",
   "execution_count": 37,
   "metadata": {
    "pycharm": {
     "name": "#%%\n"
    }
   },
   "outputs": [
    {
     "data": {
      "text/plain": [
       "array([[ 1.2e+08,  0.0e+00, -1.2e+08, -0.0e+00,  0.0e+00,  0.0e+00,\n",
       "         0.0e+00,  0.0e+00,  0.0e+00,  0.0e+00,  0.0e+00,  0.0e+00],\n",
       "       [ 0.0e+00,  0.0e+00, -0.0e+00, -0.0e+00,  0.0e+00,  0.0e+00,\n",
       "         0.0e+00,  0.0e+00,  0.0e+00,  0.0e+00,  0.0e+00,  0.0e+00],\n",
       "       [-1.2e+08, -0.0e+00,  1.2e+08,  0.0e+00,  0.0e+00,  0.0e+00,\n",
       "         0.0e+00,  0.0e+00,  0.0e+00,  0.0e+00,  0.0e+00,  0.0e+00],\n",
       "       [-0.0e+00, -0.0e+00,  0.0e+00,  0.0e+00,  0.0e+00,  0.0e+00,\n",
       "         0.0e+00,  0.0e+00,  0.0e+00,  0.0e+00,  0.0e+00,  0.0e+00],\n",
       "       [ 0.0e+00,  0.0e+00,  0.0e+00,  0.0e+00,  0.0e+00,  0.0e+00,\n",
       "         0.0e+00,  0.0e+00,  0.0e+00,  0.0e+00,  0.0e+00,  0.0e+00],\n",
       "       [ 0.0e+00,  0.0e+00,  0.0e+00,  0.0e+00,  0.0e+00,  0.0e+00,\n",
       "         0.0e+00,  0.0e+00,  0.0e+00,  0.0e+00,  0.0e+00,  0.0e+00],\n",
       "       [ 0.0e+00,  0.0e+00,  0.0e+00,  0.0e+00,  0.0e+00,  0.0e+00,\n",
       "         0.0e+00,  0.0e+00,  0.0e+00,  0.0e+00,  0.0e+00,  0.0e+00],\n",
       "       [ 0.0e+00,  0.0e+00,  0.0e+00,  0.0e+00,  0.0e+00,  0.0e+00,\n",
       "         0.0e+00,  0.0e+00,  0.0e+00,  0.0e+00,  0.0e+00,  0.0e+00],\n",
       "       [ 0.0e+00,  0.0e+00,  0.0e+00,  0.0e+00,  0.0e+00,  0.0e+00,\n",
       "         0.0e+00,  0.0e+00,  0.0e+00,  0.0e+00,  0.0e+00,  0.0e+00],\n",
       "       [ 0.0e+00,  0.0e+00,  0.0e+00,  0.0e+00,  0.0e+00,  0.0e+00,\n",
       "         0.0e+00,  0.0e+00,  0.0e+00,  0.0e+00,  0.0e+00,  0.0e+00],\n",
       "       [ 0.0e+00,  0.0e+00,  0.0e+00,  0.0e+00,  0.0e+00,  0.0e+00,\n",
       "         0.0e+00,  0.0e+00,  0.0e+00,  0.0e+00,  0.0e+00,  0.0e+00],\n",
       "       [ 0.0e+00,  0.0e+00,  0.0e+00,  0.0e+00,  0.0e+00,  0.0e+00,\n",
       "         0.0e+00,  0.0e+00,  0.0e+00,  0.0e+00,  0.0e+00,  0.0e+00]])"
      ]
     },
     "execution_count": 37,
     "metadata": {},
     "output_type": "execute_result"
    }
   ],
   "source": [
    "structure.bars[frozenset((0, 1))].calculate_k(A, E)"
   ]
  },
  {
   "cell_type": "markdown",
   "metadata": {},
   "source": [
    "### Calculate the stifness matrix for the whole structure"
   ]
  },
  {
   "cell_type": "code",
   "execution_count": 38,
   "metadata": {
    "pycharm": {
     "name": "#%%\n"
    }
   },
   "outputs": [
    {
     "name": "stdout",
     "output_type": "stream",
     "text": [
      "[[ 2.05358912e+08  6.38926595e+07  0.00000000e+00  0.00000000e+00]\n",
      " [ 6.38926595e+07  1.73159533e+08  0.00000000e+00  0.00000000e+00]\n",
      " [ 0.00000000e+00  0.00000000e+00  2.05358912e+08 -6.38926595e+07]\n",
      " [ 0.00000000e+00  0.00000000e+00 -6.38926595e+07  1.73159533e+08]]\n"
     ]
    }
   ],
   "source": [
    "k, _, _ = structure.calculate_ll_k_with_forces(A, E)\n",
    "\n",
    "print(k)"
   ]
  },
  {
   "cell_type": "markdown",
   "metadata": {},
   "source": [
    "### Unknown displacements for this structure"
   ]
  },
  {
   "cell_type": "code",
   "execution_count": 39,
   "metadata": {
    "pycharm": {
     "name": "#%%\n"
    }
   },
   "outputs": [
    {
     "name": "stdout",
     "output_type": "stream",
     "text": [
      "u1\n",
      "v1\n",
      "u3\n",
      "v3\n"
     ]
    }
   ],
   "source": [
    "_, _, unknown_displacements = structure.calculate_ll_k_with_forces(A, E)\n",
    "\n",
    "for i in unknown_displacements:\n",
    "    if i % 2 == 0:\n",
    "        print(f'u{(i // 2) + 1}')\n",
    "    else:\n",
    "        print(f'v{(i // 2) + 1}')"
   ]
  },
  {
   "cell_type": "markdown",
   "metadata": {},
   "source": [
    "### Calculate the displacenemts"
   ]
  },
  {
   "cell_type": "code",
   "execution_count": 40,
   "metadata": {
    "pycharm": {
     "name": "#%%\n"
    }
   },
   "outputs": [
    {
     "name": "stdout",
     "output_type": "stream",
     "text": [
      "u1 = 0.0 mm\n",
      "v1 = 0.0 mm\n",
      "u2 = 0.0 mm\n",
      "v2 = 0.0 mm\n",
      "u3 = 0.0 mm\n",
      "v3 = 0.0 mm\n",
      "u4 = 0.0 mm\n",
      "v4 = 0.0 mm\n",
      "u5 = 0.0 mm\n",
      "v5 = 0.0 mm\n",
      "u6 = 0.0 mm\n",
      "v6 = 0.0 mm\n"
     ]
    }
   ],
   "source": [
    "displacements = structure.calculate_displacements(A, E)\n",
    "\n",
    "for i, displacement in enumerate(displacements):\n",
    "    if i % 2 == 0:\n",
    "        print(f'u{(i // 2) + 1}', '=', displacement, 'mm')\n",
    "    else:\n",
    "        print(f'v{(i // 2) + 1}', '=', displacement, 'mm')"
   ]
  },
  {
   "cell_type": "markdown",
   "metadata": {
    "pycharm": {
     "name": "#%%\n"
    }
   },
   "source": [
    "### Calculate deformation Energy"
   ]
  },
  {
   "cell_type": "code",
   "execution_count": 41,
   "metadata": {
    "pycharm": {
     "name": "#%%\n"
    }
   },
   "outputs": [
    {
     "data": {
      "text/plain": [
       "'0.0mJ'"
      ]
     },
     "execution_count": 41,
     "metadata": {},
     "output_type": "execute_result"
    }
   ],
   "source": [
    "str(structure.calculate_deformation_energy(A, E)) + 'mJ'"
   ]
  },
  {
   "cell_type": "markdown",
   "metadata": {},
   "source": [
    "# Genetic Algorithm"
   ]
  },
  {
   "cell_type": "markdown",
   "metadata": {},
   "source": [
    "### Apply genetic algorithm to minimize the Edef for example 1"
   ]
  },
  {
   "cell_type": "code",
   "execution_count": 42,
   "metadata": {},
   "outputs": [
    {
     "data": {
      "image/png": "[encoded data removed]",
      "text/plain": [
       "<Figure size 432x288 with 1 Axes>"
      ]
     },
     "metadata": {
      "needs_background": "light"
     },
     "output_type": "display_data"
    }
   ],
   "source": [
    "structure = Structure.from_csv('./structures/example_1.csv')\n",
    "structure.draw(show=False)"
   ]
  },
  {
   "cell_type": "markdown",
   "metadata": {},
   "source": [
    "### Running the GA against Edef to minimize it"
   ]
  },
  {
   "cell_type": "code",
   "execution_count": 43,
   "metadata": {},
   "outputs": [],
   "source": [
    "E = 200000"
   ]
  },
  {
   "cell_type": "markdown",
   "metadata": {},
   "source": [
    "#### Define a cost function for our problem"
   ]
  },
  {
   "cell_type": "code",
   "execution_count": 44,
   "metadata": {},
   "outputs": [],
   "source": [
    "def calculate_energy(x):\n",
    "    return structure.calculate_deformation_energy(E, x[0])"
   ]
  },
  {
   "cell_type": "markdown",
   "metadata": {},
   "source": [
    "#### Create a GA instance with all the necessary parameters"
   ]
  },
  {
   "cell_type": "code",
   "execution_count": 45,
   "metadata": {},
   "outputs": [],
   "source": [
    "from src.modules.genetic_algorithm import GeneticAlgorithm\n",
    "\n",
    "genetic_algorithm = GeneticAlgorithm(\n",
    "    cost_function=calculate_energy,\n",
    "    variables_min_range=[0.000000001],\n",
    "    variables_max_range=[10000],\n",
    "    max_iterations=100,\n",
    "    population=50,\n",
    "    beta=1,\n",
    "    pc=1,\n",
    "    gamma=0.1,\n",
    "    mutation_rate=0.01,\n",
    "    sigma=0.1\n",
    ")"
   ]
  },
  {
   "cell_type": "markdown",
   "metadata": {},
   "source": [
    "#### Train the GA"
   ]
  },
  {
   "cell_type": "code",
   "execution_count": 46,
   "metadata": {},
   "outputs": [
    {
     "name": "stdout",
     "output_type": "stream",
     "text": [
      "Best Solution: [10000.] Best Cost: 9.57106781186547\n"
     ]
    }
   ],
   "source": [
    "best_solution = genetic_algorithm.run()\n",
    "\n",
    "print('Best Solution:', best_solution.variables, 'Best Cost:', best_solution.cost)"
   ]
  },
  {
   "cell_type": "markdown",
   "metadata": {},
   "source": [
    "#### Plot the cost over time"
   ]
  },
  {
   "cell_type": "code",
   "execution_count": 47,
   "metadata": {},
   "outputs": [
    {
     "data": {
      "image/png": "[encoded data removed]",
      "text/plain": [
       "<Figure size 432x288 with 1 Axes>"
      ]
     },
     "metadata": {
      "needs_background": "light"
     },
     "output_type": "display_data"
    }
   ],
   "source": [
    "plt.plot(genetic_algorithm.cost_history)\n",
    "plt.xlim(0, genetic_algorithm.max_iterations)\n",
    "plt.xlabel('Iterations')\n",
    "plt.ylabel('Best Cost')\n",
    "plt.title('Genetic Algorithm (GA)')\n",
    "plt.grid(True)"
   ]
  }
 ],
 "metadata": {
  "kernelspec": {
   "display_name": "Python 3",
   "language": "python",
   "name": "python3"
  },
  "language_info": {
   "codemirror_mode": {
    "name": "ipython",
    "version": 3
   },
   "file_extension": ".py",
   "mimetype": "text/x-python",
   "name": "python",
   "nbconvert_exporter": "python",
   "pygments_lexer": "ipython3",
   "version": "3.8.5"
  }
 },
 "nbformat": 4,
 "nbformat_minor": 4
}
