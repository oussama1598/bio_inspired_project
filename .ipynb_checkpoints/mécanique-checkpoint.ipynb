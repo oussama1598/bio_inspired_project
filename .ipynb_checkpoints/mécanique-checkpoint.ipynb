{
 "cells": [
  {
   "cell_type": "code",
   "execution_count": 57,
   "metadata": {},
   "outputs": [
    {
     "name": "stdout",
     "output_type": "stream",
     "text": [
      "     x    y  n1  n2  n3  n4  n5  n6  ddl  Px    Py\n",
      "0  0.0  0.0   0   1   0   1   1   1    3   0     0\n",
      "1  0.5  0.0   1   0   1   1   1   1    0   0 -2000\n",
      "2  1.0  0.0   0   1   0   1   1   1    3   0     0\n",
      "3  1.0  0.5   1   1   1   0   1   0    0   0     0\n",
      "4  0.5  0.5   1   1   1   1   0   1    0   0     0\n",
      "5  0.0  0.5   1   1   1   0   1   0    0   0     0\n",
      "[[ 0.e+00  0.e+00  0.e+00  1.e+00  0.e+00  1.e+00  1.e+00  1.e+00  3.e+00\n",
      "   0.e+00  0.e+00]\n",
      " [ 5.e-01  0.e+00  1.e+00  0.e+00  1.e+00  1.e+00  1.e+00  1.e+00  0.e+00\n",
      "   0.e+00 -2.e+03]\n",
      " [ 1.e+00  0.e+00  0.e+00  1.e+00  0.e+00  1.e+00  1.e+00  1.e+00  3.e+00\n",
      "   0.e+00  0.e+00]\n",
      " [ 1.e+00  5.e-01  1.e+00  1.e+00  1.e+00  0.e+00  1.e+00  0.e+00  0.e+00\n",
      "   0.e+00  0.e+00]\n",
      " [ 5.e-01  5.e-01  1.e+00  1.e+00  1.e+00  1.e+00  0.e+00  1.e+00  0.e+00\n",
      "   0.e+00  0.e+00]\n",
      " [ 0.e+00  5.e-01  1.e+00  1.e+00  1.e+00  0.e+00  1.e+00  0.e+00  0.e+00\n",
      "   0.e+00  0.e+00]]\n"
     ]
    }
   ],
   "source": [
    "import numpy as np\n",
    "import math as mt\n",
    "import numpy\n",
    "import pandas as pd\n",
    "import matplotlib.pyplot as plt\n",
    "\n",
    "Data = pd.read_csv(\"data.csv\")\n",
    "print(Data)\n",
    "data=Data.to_numpy()\n",
    "print(data)"
   ]
  },
  {
   "cell_type": "code",
   "execution_count": 58,
   "metadata": {},
   "outputs": [],
   "source": [
    "def plot_struct(struct):\n",
    "    fig, ax = plt.subplots()\n",
    "    # Plotting nodes\n",
    "    for i in range(len(struct)):\n",
    "        ax.scatter(struct.loc[i][0], struct.loc[i][1], color='#000000', linewidths = 16)\n",
    "    # Plotting bars\n",
    "    for k in range(len(struct)):\n",
    "        for i in range(len(struct)):\n",
    "            if struct.loc[k][i+2] == 1:\n",
    "                plt.plot([struct.loc[i][0], struct.loc[k][0]], [struct.loc[i][1], struct.loc[k][1]],color='b', linewidth=8)"
   ]
  },
  {
   "cell_type": "code",
   "execution_count": 59,
   "metadata": {},
   "outputs": [
    {
     "data": {
      "image/png": "[encoded data removed]",
      "text/plain": [
       "<Figure size 432x288 with 1 Axes>"
      ]
     },
     "metadata": {
      "needs_background": "light"
     },
     "output_type": "display_data"
    }
   ],
   "source": [
    "plot_struct(Data)"
   ]
  },
  {
   "cell_type": "code",
   "execution_count": 41,
   "metadata": {},
   "outputs": [],
   "source": [
    "### la longueur\n",
    "def longueur(a,b):\n",
    "    return mt.sqrt((data[a][0]-data[b][0])**2+(data[a][1]-data[b][1])**2)"
   ]
  },
  {
   "cell_type": "code",
   "execution_count": 49,
   "metadata": {},
   "outputs": [
    {
     "data": {
      "text/plain": [
       "3"
      ]
     },
     "execution_count": 49,
     "metadata": {},
     "output_type": "execute_result"
    }
   ],
   "source": [
    "longueur(0,1)\n",
    "#(0.2*10**(-4))/(2*mt.sqrt(2)*0.2)"
   ]
  },
  {
   "cell_type": "code",
   "execution_count": 22,
   "metadata": {},
   "outputs": [
    {
     "data": {
      "text/plain": [
       "array([ 0.70710678, -0.70710678])"
      ]
     },
     "execution_count": 22,
     "metadata": {},
     "output_type": "execute_result"
    }
   ],
   "source": [
    "def vecteur_unitaire(a,b):\n",
    "    n = np.zeros(2)\n",
    "    l=longueur(a,b)\n",
    "    n[0] = (1/l)*(data[b][0] - data[a][0])\n",
    "    n[1] = (1/l)*(data[b][1] - data[a][1])\n",
    "    return n\n",
    "vecteur_unitaire(0,1)"
   ]
  },
  {
   "cell_type": "code",
   "execution_count": 36,
   "metadata": {},
   "outputs": [],
   "source": [
    "def matrice_rigidité(A,E,a,b):\n",
    "    l =longueur(a,b)\n",
    "    k = np.zeros((4,4))\n",
    "    n=vecteur_unitaire(a,b)\n",
    "    coef = (E*A/l)\n",
    "    for i in range(4):\n",
    "        for j in range(4):\n",
    "            if i==j:\n",
    "                if i%2==0:\n",
    "                    k[i][j]=n[0]**2\n",
    "                else:\n",
    "                    k[i][j]=n[1]**2\n",
    "    k[3][2]=k[2][3]=k[0][1]=k[1][0]=n[0]*n[1]\n",
    "    k[0][2]=k[2][0]=-n[0]**2\n",
    "    k[1][2]=k[2][1]=k[0][3]=k[3][0]=-n[0]*n[1]\n",
    "    k[3][1]=k[1][3]=-n[1]**2\n",
    "    return k*coef"
   ]
  },
  {
   "cell_type": "code",
   "execution_count": 52,
   "metadata": {},
   "outputs": [
    {
     "name": "stdout",
     "output_type": "stream",
     "text": [
      "[[ 3.53553391e-05 -3.53553391e-05 -3.53553391e-05  3.53553391e-05]\n",
      " [-3.53553391e-05  3.53553391e-05  3.53553391e-05 -3.53553391e-05]\n",
      " [-3.53553391e-05  3.53553391e-05  3.53553391e-05 -3.53553391e-05]\n",
      " [ 3.53553391e-05 -3.53553391e-05 -3.53553391e-05  3.53553391e-05]] [[ 3.53553391e-05  3.53553391e-05 -3.53553391e-05 -3.53553391e-05]\n",
      " [ 3.53553391e-05  3.53553391e-05 -3.53553391e-05 -3.53553391e-05]\n",
      " [-3.53553391e-05 -3.53553391e-05  3.53553391e-05  3.53553391e-05]\n",
      " [-3.53553391e-05 -3.53553391e-05  3.53553391e-05  3.53553391e-05]] [[ 0.e+00 -0.e+00 -0.e+00  0.e+00]\n",
      " [-0.e+00  5.e-05  0.e+00 -5.e-05]\n",
      " [-0.e+00  0.e+00  0.e+00 -0.e+00]\n",
      " [ 0.e+00 -5.e-05 -0.e+00  5.e-05]]\n"
     ]
    }
   ],
   "source": [
    "_01=matrice_rigidité(10**(-4),0.2,0,1)\n",
    "_03=matrice_rigidité(10**(-4),0.2,0,1)\n",
    "_04=matrice_rigidité(10**(-4),0.2,0,1)\n",
    "_05=matrice_rigidité(10**(-4),0.2,0,1)\n",
    "\n",
    "_12=matrice_rigidité(10**(-4),0.2,1,2)\n",
    "_13=matrice_rigidité(10**(-4),0.2,0,2)\n",
    "_14=matrice_rigidité(10**(-4),0.2,0,2)\n",
    "_15=matrice_rigidité(10**(-4),0.2,0,2)\n",
    "\n",
    "_23=matrice_rigidité(10**(-4),0.2,0,2)\n",
    "_24=matrice_rigidité(10**(-4),0.2,0,2)\n",
    "_25=matrice_rigidité(10**(-4),0.2,0,2)\n",
    "\n",
    "_34=matrice_rigidité(10**(-4),0.2,0,2)\n",
    "\n",
    "print(_01,_12,_02)"
   ]
  },
  {
   "cell_type": "code",
   "execution_count": 9,
   "metadata": {},
   "outputs": [
    {
     "data": {
      "text/plain": [
       "-0.7071067811865475"
      ]
     },
     "execution_count": 9,
     "metadata": {},
     "output_type": "execute_result"
    }
   ],
   "source": [
    "def deplacement_nodaux(k,f):\n",
    "    x = np.linalg.solve(k, f)\n",
    "    return x"
   ]
  },
  {
   "cell_type": "code",
   "execution_count": 53,
   "metadata": {},
   "outputs": [
    {
     "name": "stdout",
     "output_type": "stream",
     "text": [
      "[0. 0. 1. 1. 0. 1.]\n"
     ]
    }
   ],
   "source": [
    "vecteurs=np.zeros(6)\n",
    "vecteurs[0]=vecteurs[1]=vecteurs[2]=0\n",
    "vecteurs[2]=vecteurs[3]=vecteurs[5]=1\n",
    "print(vecteurs)"
   ]
  },
  {
   "cell_type": "code",
   "execution_count": 11,
   "metadata": {},
   "outputs": [
    {
     "name": "stdout",
     "output_type": "stream",
     "text": [
      "20000000.0 0.0 0.0 0.0\n"
     ]
    },
    {
     "data": {
      "text/plain": [
       "array([[ 20000000.,         0., -20000000.,        -0.],\n",
       "       [        0.,         0.,        -0.,        -0.],\n",
       "       [-20000000.,        -0.,  20000000.,         0.],\n",
       "       [       -0.,        -0.,         0.,         0.]])"
      ]
     },
     "execution_count": 11,
     "metadata": {},
     "output_type": "execute_result"
    }
   ],
   "source": []
  },
  {
   "cell_type": "code",
   "execution_count": 10,
   "metadata": {},
   "outputs": [],
   "source": [
    "def deplacement_nodaux(k,f):\n",
    "    x = np.linalg.solve(k, f)\n",
    "    return x\n"
   ]
  },
  {
   "cell_type": "code",
   "execution_count": null,
   "metadata": {},
   "outputs": [],
   "source": [
    "def matrice_rigidité(A,E,a,b):\n",
    "    l =longueur(a,b)\n",
    "    k = np.zeros((2,2))\n",
    "    n=vecteur_unitaire(a,b)\n",
    "    co"
   ]
  }
 ],
 "metadata": {
  "kernelspec": {
   "display_name": "Python 3",
   "language": "python",
   "name": "python3"
  },
  "language_info": {
   "codemirror_mode": {
    "name": "ipython",
    "version": 3
   },
   "file_extension": ".py",
   "mimetype": "text/x-python",
   "name": "python",
   "nbconvert_exporter": "python",
   "pygments_lexer": "ipython3",
   "version": "3.8.5"
  }
 },
 "nbformat": 4,
 "nbformat_minor": 2
}
